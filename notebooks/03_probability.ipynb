{
 "cells": [
  {
   "cell_type": "markdown",
   "id": "0f50e8f6",
   "metadata": {},
   "source": [
    "## Ejercicios de probabilidad\n",
    "# Ejercicio 1\n",
    "Dos dados se lanzan una vez y se observa el total obtenido. Usa una simulación para encontrar la probabilidad estimada de que la puntuación sea mayor a 7 o un número par. Una simulación es una repetición del mismo experimento multiples veces para observar su comportamiento:\n",
    "\n",
    "- Ejecuta el experimento 1000 veces (lanza 2 dados 1000 veces, y suma el número de ambos dados).\n",
    "- Lleva ua cuenta de los números y las veces que la suma fue mayor a 7 o un número par.\n",
    "- Divide el número del paso 2 entre el número de iteraciones(1000)."
   ]
  },
  {
   "cell_type": "code",
   "execution_count": 1,
   "id": "614b0679",
   "metadata": {},
   "outputs": [],
   "source": [
    "#Import libraries\n",
    "import numpy as np\n",
    "import matplotlib.pyplot as plt\n",
    "import pandas as pd\n",
    "import random \n",
    "from fractions import Fraction"
   ]
  },
  {
   "cell_type": "code",
   "execution_count": 2,
   "id": "48649e93",
   "metadata": {},
   "outputs": [
    {
     "data": {
      "text/plain": [
       "'La probabilidad del experimento es de: 2/3, en número real: 0.6666666666666666 en porcentaje: 66.66666666666666'"
      ]
     },
     "metadata": {},
     "output_type": "display_data"
    },
    {
     "data": {
      "text/plain": [
       "'Las veces en las que mi experimento dio un resultado mayor a 7 o un número par en mil lanzamientos es de 0.649 o de 64.9%'"
      ]
     },
     "metadata": {},
     "output_type": "display_data"
    }
   ],
   "source": [
    "sam = {1, 2, 3, 4, 5, 6, 7, 8, 9, 10, 11, 12}\n",
    "eve1 = {2, 4, 6, 8, 10, 12}\n",
    "eve2 = {8, 9, 10, 11, 12}\n",
    "\n",
    "event = set.union(eve1, eve2)\n",
    "\n",
    "c_n = len(set.intersection(event, sam))\n",
    "c_d = len(sam)\n",
    "\n",
    "display(f\"La probabilidad del experimento es de: {Fraction(c_n, c_d)}, en número real: {c_n/c_d} en porcentaje: {(c_n/c_d)*100}\")\n",
    "\n",
    "res = []\n",
    "accum = 0\n",
    "for i in range(1, 1001):\n",
    "   dice1 = random.sample([1,2,3,4,5,6], 1)\n",
    "   dice2 = random.sample([1,2,3,4,5,6], 1)\n",
    "   res = dice1[0] + dice2[0]\n",
    "   if res > 7 or res % 2 == 0:\n",
    "      accum = accum + 1\n",
    "   else:\n",
    "      pass\n",
    "pr = accum / 1000\n",
    "\n",
    "display(f\"Las veces en las que mi experimento dio un resultado mayor a 7 o un número par en mil lanzamientos es de {pr} o de {pr*100}%\")\n",
    "\n",
    "\n"
   ]
  },
  {
   "cell_type": "markdown",
   "id": "e8ab66d6",
   "metadata": {},
   "source": [
    "## Ejercicio 2\n",
    "Una caja contiene 10 bolas blancas, 20 bolas rojas y 30 bolas verdes. Si tomamos 5 bolas de la caja reemplazándolas (tomando una bola, anotando el color y luego regresandola a la caja). Queremos saber la probabilidad de:\n",
    "\n",
    "- Tomar 3 blancas y 2 rojas.\n",
    "- Tomar todas del mismo color.\n",
    "- Ejecuta el experimento 1000 veces y calcula las probabilidades que mencionadas."
   ]
  },
  {
   "cell_type": "code",
   "execution_count": 20,
   "id": "e25d8359",
   "metadata": {},
   "outputs": [
    {
     "data": {
      "text/plain": [
       "'Las veces que salieron 3 bolas blancas y 2 rojas fueron 2'"
      ]
     },
     "metadata": {},
     "output_type": "display_data"
    },
    {
     "data": {
      "text/plain": [
       "'Las veces que salieron todas las bolas blancas fueron 0'"
      ]
     },
     "metadata": {},
     "output_type": "display_data"
    },
    {
     "data": {
      "text/plain": [
       "'Las veces que salieron todas las bolas rojas fueron 4'"
      ]
     },
     "metadata": {},
     "output_type": "display_data"
    },
    {
     "data": {
      "text/plain": [
       "'Las veces que salieron todas las bolas verdes fueron 23'"
      ]
     },
     "metadata": {},
     "output_type": "display_data"
    }
   ],
   "source": [
    "ball_box = {}\n",
    "\n",
    "# Crea la cajas con las bolas\n",
    "for i in range(60):\n",
    "    if i < 10:\n",
    "        ball_box[i] = \"White\"\n",
    "    elif (i > 9) and (i < 30):\n",
    "        ball_box[i] = \"Red\"\n",
    "    else:\n",
    "        ball_box[i] = \"Green\"\n",
    "\n",
    "def contar_bolas(tupla, color):\n",
    "  return tupla.count(color)\n",
    "\n",
    "accum = 0\n",
    "accumw = 0\n",
    "accumr = 0\n",
    "accumg = 0\n",
    "conteo_bolas = []\n",
    "\n",
    "for i in range(0, 1001):\n",
    "    ball1 = random.choice(ball_box)\n",
    "    ball2 = random.choice(ball_box)\n",
    "    ball3 = random.choice(ball_box)\n",
    "    ball4 = random.choice(ball_box)\n",
    "    ball5 = random.choice(ball_box)\n",
    "\n",
    "    res = ball1, ball2, ball3, ball4, ball5\n",
    "    \n",
    "    conteo_bolas = [contar_bolas(res,\"White\"), contar_bolas(res,\"Red\"), contar_bolas(res, \"Green\")]\n",
    "\n",
    "    if conteo_bolas[0] == 3 and conteo_bolas[1] == 2:\n",
    "        accum = accum + 1\n",
    "    elif conteo_bolas[0] == 5:\n",
    "        accumw = accumw + 1\n",
    "    elif conteo_bolas[1] == 5:\n",
    "        accumr = accumr + 1\n",
    "    elif conteo_bolas[2] == 5:\n",
    "        accumg = accumg + 1\n",
    "    \n",
    "display(f\"Las veces que salieron 3 bolas blancas y 2 rojas fueron {accum}\")\n",
    "display(f\"Las veces que salieron todas las bolas blancas fueron {accumw}\")\n",
    "display(f\"Las veces que salieron todas las bolas rojas fueron {accumr}\")\n",
    "display(f\"Las veces que salieron todas las bolas verdes fueron {accumg}\")\n",
    "\n",
    "\n",
    "\n",
    "\n",
    "\n",
    "\n",
    "    \n",
    "    \n",
    "\n",
    "    \n",
    "    \n",
    "    \n",
    "    \n",
    "\n",
    "\n",
    "        "
   ]
  }
 ],
 "metadata": {
  "kernelspec": {
   "display_name": ".venv",
   "language": "python",
   "name": "python3"
  },
  "language_info": {
   "codemirror_mode": {
    "name": "ipython",
    "version": 3
   },
   "file_extension": ".py",
   "mimetype": "text/x-python",
   "name": "python",
   "nbconvert_exporter": "python",
   "pygments_lexer": "ipython3",
   "version": "3.12.1"
  }
 },
 "nbformat": 4,
 "nbformat_minor": 5
}
